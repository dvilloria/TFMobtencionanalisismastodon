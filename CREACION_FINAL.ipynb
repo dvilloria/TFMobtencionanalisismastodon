{
 "cells": [
  {
   "cell_type": "code",
   "execution_count": 1,
   "id": "fb631290-75dd-490a-b531-068d32845d7f",
   "metadata": {},
   "outputs": [],
   "source": [
    "import psycopg2\n",
    "import networkx as nx\n",
    "import requests\n",
    "from mastodon import Mastodon, MastodonNetworkError, MastodonVersionError\n",
    "import matplotlib.pyplot as plt\n",
    "import pandas as pd"
   ]
  },
  {
   "cell_type": "code",
   "execution_count": 2,
   "id": "d770f69d-8799-4e56-899a-946ef8eea7e1",
   "metadata": {},
   "outputs": [],
   "source": [
    "# Datos conexión bd\n",
    "Config_bd = {\n",
    "    'dbname': 'postgres',\n",
    "    'user': 'postgres',\n",
    "    'password': '0512',\n",
    "    'host': 'localhost',\n",
    "    'port': 5432\n",
    "}"
   ]
  },
  {
   "cell_type": "code",
   "execution_count": 3,
   "id": "53a240ac-2c1b-41cf-a815-5ea2f67d84f9",
   "metadata": {},
   "outputs": [],
   "source": [
    "def obtener_vecinos(instancia):\n",
    "    try:\n",
    "        #print(f'Conectando a: https://{instancia}')\n",
    "        mastodon = Mastodon(api_base_url=f'https://{instancia}')\n",
    "        vecinos = mastodon.instance_peers()\n",
    "        #print(f'tiene {len(vecinos)} vecinos la instancia {instancia}')\n",
    "        return vecinos\n",
    "    except (MastodonNetworkError, MastodonVersionError) as e:\n",
    "        print(f\"Error con la instancia {instancia}: {e}\")\n",
    "        return []\n",
    "    except Exception as e:\n",
    "        print(f\"Error inesperado con {instancia}: {e}\")\n",
    "        return []"
   ]
  },
  {
   "cell_type": "code",
   "execution_count": 4,
   "id": "4fa2bb21-db55-4288-8584-197b5f6d5412",
   "metadata": {},
   "outputs": [],
   "source": [
    "def table_activas():\n",
    "    try: \n",
    "        conex = psycopg2.connect(**Config_bd)\n",
    "        cursor = conex.cursor()\n",
    "        cursor.execute(\"\"\"\n",
    "            CREATE TABLE instancias_reales AS\n",
    "            SELECT instancia, num_vecinos\n",
    "            FROM instancias_final\n",
    "            WHERE num_vecinos > 0;\n",
    "        \"\"\")\n",
    "        conex.commit()\n",
    "        cursor.close()\n",
    "        conex.close()\n",
    "    except Exception as e:\n",
    "        print(f\"Error al guardar en la base de datos: {e}\")"
   ]
  },
  {
   "cell_type": "code",
   "execution_count": 5,
   "id": "f6595ac5-0498-4ea7-aad4-b8ce64e7eef4",
   "metadata": {},
   "outputs": [
    {
     "name": "stdout",
     "output_type": "stream",
     "text": [
      "Error al guardar en la base de datos: la relación «instancias_reales» ya existe\n",
      "\n"
     ]
    }
   ],
   "source": [
    "table_activas()"
   ]
  },
  {
   "cell_type": "code",
   "execution_count": 6,
   "id": "6474a734-e8a2-4034-9d67-26b05749f8ac",
   "metadata": {},
   "outputs": [],
   "source": [
    "Grafo_activas = nx.DiGraph()"
   ]
  },
  {
   "cell_type": "code",
   "execution_count": 7,
   "id": "e05e1010-cd6e-42dd-ab48-4664ad6b2e51",
   "metadata": {},
   "outputs": [],
   "source": [
    "def creacion_grafo_act():\n",
    "    try: \n",
    "        conex = psycopg2.connect(**Config_bd)\n",
    "        cursor = conex.cursor()\n",
    "        cursor.execute(\"\"\"\n",
    "            SELECT instancia FROM instancias_reales\n",
    "        \"\"\")\n",
    "        activas = [row[0] for row in cursor.fetchall()]\n",
    "        i = 0\n",
    "        for activa in activas:\n",
    "            vecinos = obtener_vecinos(activa)\n",
    "            vecinos_act = [vecino for vecino in vecinos if vecino in activas]\n",
    "            for vecino_act in vecinos_act:\n",
    "                Grafo_activas.add_edge(activa, vecino_act)\n",
    "            #print(f\"Procesada {activa}: {len(vecinos_act)} vecinos añadidos al grafo.\")\n",
    "            print(i)\n",
    "            i = i + 1\n",
    "        conex.commit()\n",
    "        cursor.close()\n",
    "        conex.close()\n",
    "    except Exception as e:\n",
    "        print(f\"Error al guardar en la base de datos: {e}\")"
   ]
  },
  {
   "cell_type": "code",
   "execution_count": 8,
   "id": "e5e450d2-9452-44f8-a051-7cbdc71827dd",
   "metadata": {},
   "outputs": [
    {
     "name": "stdout",
     "output_type": "stream",
     "text": [
      "0\n",
      "1\n",
      "2\n",
      "3\n",
      "Error con la instancia youth.social: Version check failed (Need version 2.1.2)\n",
      "4\n",
      "5\n",
      "6\n",
      "7\n"
     ]
    },
    {
     "ename": "KeyboardInterrupt",
     "evalue": "",
     "output_type": "error",
     "traceback": [
      "\u001b[1;31m---------------------------------------------------------------------------\u001b[0m",
      "\u001b[1;31mKeyboardInterrupt\u001b[0m                         Traceback (most recent call last)",
      "Cell \u001b[1;32mIn[8], line 1\u001b[0m\n\u001b[1;32m----> 1\u001b[0m creacion_grafo_act()\n",
      "Cell \u001b[1;32mIn[7], line 12\u001b[0m, in \u001b[0;36mcreacion_grafo_act\u001b[1;34m()\u001b[0m\n\u001b[0;32m     10\u001b[0m \u001b[38;5;28;01mfor\u001b[39;00m activa \u001b[38;5;129;01min\u001b[39;00m activas:\n\u001b[0;32m     11\u001b[0m     vecinos \u001b[38;5;241m=\u001b[39m obtener_vecinos(activa)\n\u001b[1;32m---> 12\u001b[0m     vecinos_act \u001b[38;5;241m=\u001b[39m [vecino \u001b[38;5;28;01mfor\u001b[39;00m vecino \u001b[38;5;129;01min\u001b[39;00m vecinos \u001b[38;5;28;01mif\u001b[39;00m vecino \u001b[38;5;129;01min\u001b[39;00m activas]\n\u001b[0;32m     13\u001b[0m     \u001b[38;5;28;01mfor\u001b[39;00m vecino_act \u001b[38;5;129;01min\u001b[39;00m vecinos_act:\n\u001b[0;32m     14\u001b[0m         Grafo_activas\u001b[38;5;241m.\u001b[39madd_edge(activa, vecino_act)\n",
      "\u001b[1;31mKeyboardInterrupt\u001b[0m: "
     ]
    }
   ],
   "source": [
    "creacion_grafo_act()"
   ]
  },
  {
   "cell_type": "code",
   "execution_count": null,
   "id": "0304314f-d932-4500-9d8f-881c5f8780f0",
   "metadata": {},
   "outputs": [],
   "source": [
    "# Guardar el grafo como archivo (opcional)\n",
    "nx.write_gml(Grafo_activas, \"grafo_activas.gml\")  # Guarda en formato GML\n",
    "print(\"Grafo guardado en grafo_activas.gml.\")"
   ]
  },
  {
   "cell_type": "code",
   "execution_count": null,
   "id": "9768bee1-1e13-4e2b-9111-f87f315919d6",
   "metadata": {},
   "outputs": [],
   "source": [
    "grafo = nx.read_gml('grafo_activas.gml')"
   ]
  },
  {
   "cell_type": "code",
   "execution_count": null,
   "id": "62307ec9-e695-44b5-8c73-f019b9f32b1b",
   "metadata": {},
   "outputs": [],
   "source": [
    "# Acceder a nodos y aristas\n",
    "print(\"Nodos:\", len(grafo.nodes()))\n",
    "print(\"Aristas:\", len(grafo.edges()))"
   ]
  },
  {
   "cell_type": "code",
   "execution_count": null,
   "id": "b71c1488-3331-48ed-a6f8-35f860514f16",
   "metadata": {},
   "outputs": [],
   "source": [
    "47895443/(12409*12408)"
   ]
  },
  {
   "cell_type": "code",
   "execution_count": null,
   "id": "068b3da3-2c7d-4b12-96b5-2a242656ebfb",
   "metadata": {},
   "outputs": [],
   "source": [
    "nx.density(grafo)"
   ]
  },
  {
   "cell_type": "code",
   "execution_count": null,
   "id": "dd5f0ae0-3723-4ed7-a70f-0dca5fcb840a",
   "metadata": {},
   "outputs": [],
   "source": [
    "import numpy as np"
   ]
  },
  {
   "cell_type": "code",
   "execution_count": null,
   "id": "d00f9452-8439-4fa4-b035-85c74663b3c9",
   "metadata": {},
   "outputs": [],
   "source": [
    "# Como es un  grafo dirigido veamos los grados de entrada y salida.\n",
    "grado_entrada = [grado for _, grado in grafo.in_degree()]\n",
    "grado_salida = [grado for _, grado in grafo.out_degree()]"
   ]
  },
  {
   "cell_type": "code",
   "execution_count": null,
   "id": "b70aa105-b252-4737-8cd2-8923ba60b6b7",
   "metadata": {},
   "outputs": [],
   "source": [
    "print(f\"Grado promedio de entrada: {np.mean(grado_entrada)}\")\n",
    "print(f\"Grado promedio de salida: {np.mean(grado_salida)}\")"
   ]
  },
  {
   "cell_type": "code",
   "execution_count": null,
   "id": "4a7d069b-ba40-4d38-a69c-db065467915e",
   "metadata": {},
   "outputs": [],
   "source": [
    "grafo.is_directed()"
   ]
  },
  {
   "cell_type": "code",
   "execution_count": null,
   "id": "b73eed8c-ab0f-46d7-a60c-0728bbdcfa03",
   "metadata": {},
   "outputs": [],
   "source": [
    "import matplotlib.pyplot as plt\n",
    "\n",
    "# Dibuja el grafo\n",
    "pos = nx.spring_layout(grafo)\n",
    "plt.figure(figsize=(10, 10))\n",
    "nx.draw(grafo, pos, node_size=20, edge_color='gray', with_labels=False)\n",
    "plt.title(\"Visualización del Grafo\")\n",
    "plt.show()\n"
   ]
  },
  {
   "cell_type": "code",
   "execution_count": null,
   "id": "81d8b1a1-21c6-45d6-bf8d-cad6138d004a",
   "metadata": {},
   "outputs": [],
   "source": [
    "# Distribución de grados\n",
    "plt.hist(grado_entrada, bins=50, alpha=0.7, label='Grado de entrada')\n",
    "plt.xlabel('Grado de entrada')\n",
    "plt.ylabel('Frecuencia')\n",
    "plt.legend()\n",
    "plt.title('Distribución de Grados de entrada')\n",
    "plt.savefig('Distribución grados entrada')\n",
    "plt.show()"
   ]
  },
  {
   "cell_type": "code",
   "execution_count": null,
   "id": "70ed02a5-2fff-4967-995b-ff50e94605a1",
   "metadata": {},
   "outputs": [],
   "source": [
    "plt.hist(grado_salida, bins=50, alpha=0.7, label='Grado de salida')\n",
    "plt.xlabel('Grado salida')\n",
    "plt.ylabel('Frecuencia')\n",
    "plt.legend()\n",
    "plt.title('Distribución de Grados de salida')\n",
    "plt.savefig('Distribución grados salida')\n",
    "plt.show()"
   ]
  },
  {
   "cell_type": "code",
   "execution_count": null,
   "id": "4fcd637f-33b5-4599-958c-b358be40c308",
   "metadata": {},
   "outputs": [],
   "source": [
    "valores_unicos, frecuencias = np.unique(grado_entrada, return_counts=True)\n",
    "plt.figure(figsize=(6, 4))\n",
    "plt.loglog(valores_unicos, frecuencias, marker=\".\", linestyle=\"none\")\n",
    "plt.xlabel('Grado')\n",
    "plt.ylabel('Frecuencia')\n",
    "plt.title('Distribución de grados de entrada (Log-Log')\n",
    "plt.grid(True, which=\"both\", linestyle=\"--\", linewidth=0.5)\n",
    "plt.savefig('Distribución grados entrada (Log-Log')\n",
    "plt.show()"
   ]
  },
  {
   "cell_type": "code",
   "execution_count": null,
   "id": "d3ef2e4a-d911-48b9-8876-04d11a645b11",
   "metadata": {},
   "outputs": [],
   "source": [
    "valores_unicos, frecuencias = np.unique(grado_salida, return_counts=True)\n",
    "plt.figure(figsize=(6, 4))\n",
    "plt.loglog(valores_unicos, frecuencias, marker=\".\", linestyle=\"none\")\n",
    "plt.xlabel('Grado')\n",
    "plt.ylabel('Frecuencia')\n",
    "plt.title('Distribución de grados de salida (Log-Log')\n",
    "plt.grid(True, which=\"both\", linestyle=\"--\", linewidth=0.5)\n",
    "plt.savefig('Distribución grados salida (Log-Log')\n",
    "plt.show()"
   ]
  },
  {
   "cell_type": "code",
   "execution_count": null,
   "id": "1295b83d-02a3-413f-af2b-94cc871d5b36",
   "metadata": {},
   "outputs": [],
   "source": [
    "# Grado de entrada (in-degree)\n",
    "grado_entrada = grafo.in_degree()\n",
    "nodos_mayor_grado_entrada = sorted(grado_entrada, key=lambda x: -x[1])[:5]\n",
    "print(\"Top 5 nodos con mayor grado de entrada:\", nodos_mayor_grado_entrada)\n",
    "\n",
    "# Grado de salida (out-degree)\n",
    "grado_salida = grafo.out_degree()\n",
    "nodos_mayor_grado_salida = sorted(grado_salida, key=lambda x: -x[1])[:5]\n",
    "print(\"Top 5 nodos con mayor grado de salida:\", nodos_mayor_grado_salida)\n",
    "\n",
    "# Grado total (in-degree + out-degree)\n",
    "grado_total = grafo.degree()\n",
    "nodos_mayor_grado_total = sorted(grado_total, key=lambda x: -x[1])[:5]\n",
    "print(\"Top 5 nodos con mayor grado total:\", nodos_mayor_grado_total)\n"
   ]
  },
  {
   "cell_type": "code",
   "execution_count": null,
   "id": "bd0ee40c-7e9a-4a43-b3d5-6bb812874fe2",
   "metadata": {},
   "outputs": [],
   "source": [
    "# Componentes debilmente conexas\n",
    "num_componentes = len(list(nx.weakly_connected_components(grafo)))\n",
    "print(\"Número de componentes débilmente conexas:\", num_componentes)\n"
   ]
  },
  {
   "cell_type": "code",
   "execution_count": null,
   "id": "14c2bf0c-ae79-46e6-b2f9-d99e9068bd96",
   "metadata": {},
   "outputs": [],
   "source": [
    "# Componentes fuertemente conexas\n",
    "num_componentes = len(list(nx.strongly_connected_components(grafo)))\n",
    "print(\"Número de componentes fuertemente conexas:\", num_componentes)\n"
   ]
  },
  {
   "cell_type": "code",
   "execution_count": null,
   "id": "e75d6812-7701-4a06-a95c-6e5b257a4c14",
   "metadata": {},
   "outputs": [],
   "source": [
    "# Obtener las componentes fuertemente conexas\n",
    "componentes_fuertes = list(nx.strongly_connected_components(grafo))\n",
    "\n",
    "# Calcular el tamaño de cada componente\n",
    "tamaños = [len(componente) for componente in componentes_fuertes]\n",
    "\n",
    "# Mostrar los tamaños\n",
    "for i, tam in enumerate(tamaños, start=1):\n",
    "    if tam > 1:\n",
    "        print(f\"Componente {i}: Tamaño {tam}\")"
   ]
  },
  {
   "cell_type": "code",
   "execution_count": null,
   "id": "b1b88540-d343-41a4-9d59-1d6d9a87f06e",
   "metadata": {},
   "outputs": [],
   "source": [
    "# Asortatividad\n",
    "asortatividad = nx.degree_assortativity_coefficient(grafo)\n",
    "print(\"Coeficiente de asortatividad:\", asortatividad)"
   ]
  },
  {
   "cell_type": "code",
   "execution_count": null,
   "id": "39674020-97b5-4917-9532-e76e6889a77b",
   "metadata": {},
   "outputs": [],
   "source": [
    "# Subgrafo fuertemente conexo\n",
    "subcentral = grafo.subgraph(max(componentes_fuertes, key=len)).copy()\n",
    "grafo_no_dirigido = grafo.to_undirected()\n",
    "\n",
    "\n",
    "# Caminos más cortos y diámetro\n",
    "# Longitud promedio del camino más corto\n",
    "longitud_media = nx.average_shortest_path_length(subcentral)\n",
    "print(\"Longitud promedio del camino más corto:\", longitud_media)\n",
    "\n",
    "# Diámetro del grafo\n",
    "diametro = nx.diameter(subcentral)\n",
    "print(\"Diámetro del grafo:\", diametro)\n",
    "\n",
    "# Caminos más cortos y diámetro\n",
    "# Longitud promedio del camino más corto\n",
    "longitud_media = nx.average_shortest_path_length(grafo_no_dirigido)\n",
    "print(\"Longitud promedio del camino más corto:\", longitud_media)\n",
    "\n",
    "# Diámetro del grafo\n",
    "diametro = nx.diameter(grafo_no_dirigido)\n",
    "print(\"Diámetro del grafo:\", diametro)\n"
   ]
  },
  {
   "cell_type": "code",
   "execution_count": null,
   "id": "40c20786-e474-4659-ae29-b7e0bf33d6c2",
   "metadata": {},
   "outputs": [],
   "source": [
    "# Centralidad de grado\n",
    "centralidad_grado = nx.degree_centrality(grafo)\n",
    "print(\"Centralidad de grado (top 5):\", sorted(centralidad_grado.items(), key=lambda x: -x[1])[:5])\n",
    "\n",
    "# Centralidad de intermediación\n",
    "centralidad_intermediacion = nx.betweenness_centrality(grafo)\n",
    "print(\"Centralidad de intermediación (top 5):\", sorted(centralidad_intermediacion.items(), key=lambda x: -x[1])[:5])\n",
    "\n",
    "# Centralidad de cercanía\n",
    "centralidad_cercania = nx.closeness_centrality(grafo)\n",
    "print(\"Centralidad de cercanía (top 5):\", sorted(centralidad_cercania.items(), key=lambda x: -x[1])[:5])"
   ]
  },
  {
   "cell_type": "code",
   "execution_count": null,
   "id": "c8c27ec6-30ed-42f0-9413-334475e3f952",
   "metadata": {},
   "outputs": [],
   "source": [
    "# Detección de comunidades con el algoritmo Louvain\n",
    "from networkx.algorithms.community import greedy_modularity_communities\n",
    "\n",
    "comunidades = list(greedy_modularity_communities(grafo))\n",
    "print(\"Número de comunidades detectadas:\", len(comunidades))\n",
    "print(\"Tamaños de las comunidades (top 5):\", [len(c) for c in comunidades[:5]])\n"
   ]
  },
  {
   "cell_type": "code",
   "execution_count": null,
   "id": "94d0162f-8007-4a42-ac70-ff9b5caf838d",
   "metadata": {},
   "outputs": [],
   "source": [
    "# Simula eliminación de nodos\n",
    "import random\n",
    "\n",
    "# Elimina nodos aleatorios y mide impacto\n",
    "nodos_a_eliminar = random.sample(list(grafo.nodes()), 10)  # 10 nodos aleatorios\n",
    "grafo_copia = grafo.copy()\n",
    "grafo_copia.remove_nodes_from(nodos_a_eliminar)\n",
    "\n",
    "# Calcula tamaño de la componente gigante después de eliminar nodos\n",
    "componentes = sorted(nx.strongly_connected_components(grafo_copia), key=len, reverse=True)\n",
    "print(\"Tamaño de la componente gigante tras eliminación:\", len(componentes[0]) if componentes else 0)"
   ]
  }
 ],
 "metadata": {
  "kernelspec": {
   "display_name": "Python 3 (ipykernel)",
   "language": "python",
   "name": "python3"
  },
  "language_info": {
   "codemirror_mode": {
    "name": "ipython",
    "version": 3
   },
   "file_extension": ".py",
   "mimetype": "text/x-python",
   "name": "python",
   "nbconvert_exporter": "python",
   "pygments_lexer": "ipython3",
   "version": "3.12.4"
  }
 },
 "nbformat": 4,
 "nbformat_minor": 5
}
